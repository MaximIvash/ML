{
 "cells": [
  {
   "cell_type": "code",
   "execution_count": 23,
   "id": "67dffd78-fdd5-4d35-9b19-69fd4a03bd04",
   "metadata": {},
   "outputs": [],
   "source": [
    "import pandas as pd\n",
    "import numpy as np\n",
    "from sklearn.ensemble import RandomForestClassifier\n",
    "from sklearn.model_selection import train_test_split\n",
    "from sklearn.metrics import f1_score, accuracy_score\n",
    "import time\n",
    "from hyperopt import hp, fmin, tpe, Trials, STATUS_OK\n",
    "from hyperopt.pyll.base import scope\n",
    "from xgboost import XGBClassifier"
   ]
  },
  {
   "cell_type": "code",
   "execution_count": 24,
   "id": "985575a4-d3c7-43d4-9801-70bf34d017de",
   "metadata": {},
   "outputs": [
    {
     "name": "stdout",
     "output_type": "stream",
     "text": [
      "     Pregnancies  Glucose  BloodPressure  SkinThickness  Insulin   BMI  \\\n",
      "0              6      148             72             35        0  33.6   \n",
      "1              1       85             66             29        0  26.6   \n",
      "2              8      183             64              0        0  23.3   \n",
      "3              1       89             66             23       94  28.1   \n",
      "4              0      137             40             35      168  43.1   \n",
      "..           ...      ...            ...            ...      ...   ...   \n",
      "763           10      101             76             48      180  32.9   \n",
      "764            2      122             70             27        0  36.8   \n",
      "765            5      121             72             23      112  26.2   \n",
      "766            1      126             60              0        0  30.1   \n",
      "767            1       93             70             31        0  30.4   \n",
      "\n",
      "     DiabetesPedigreeFunction  Age  Outcome  \n",
      "0                       0.627   50        1  \n",
      "1                       0.351   31        0  \n",
      "2                       0.672   32        1  \n",
      "3                       0.167   21        0  \n",
      "4                       2.288   33        1  \n",
      "..                        ...  ...      ...  \n",
      "763                     0.171   63        0  \n",
      "764                     0.340   27        0  \n",
      "765                     0.245   30        0  \n",
      "766                     0.349   47        1  \n",
      "767                     0.315   23        0  \n",
      "\n",
      "[768 rows x 9 columns]\n"
     ]
    }
   ],
   "source": [
    "data = pd.read_csv('diabetes.csv')\n",
    "print(data)"
   ]
  },
  {
   "cell_type": "code",
   "execution_count": 25,
   "id": "6e9cdca4-8d41-43c1-9239-88ac03ff5011",
   "metadata": {},
   "outputs": [],
   "source": [
    "X = data.drop('Outcome', axis=1)\n",
    "y = data['Outcome']\n",
    "X_train, X_test, y_train, y_test = train_test_split(X, y, test_size=0.3, random_state=42)"
   ]
  },
  {
   "cell_type": "code",
   "execution_count": 26,
   "id": "90736234-c3f4-4f88-9385-b77dea1bd9f1",
   "metadata": {},
   "outputs": [
    {
     "name": "stdout",
     "output_type": "stream",
     "text": [
      "Точность: 0.7532467532467533\n",
      "Время обучения: 0.004999399185180664 секунд\n"
     ]
    }
   ],
   "source": [
    "bst = XGBClassifier(n_estimators=2, max_depth=2, learning_rate=3, objective='binary:logistic', reg_alpha=30, reg_lambda=80, booster='dart')\n",
    "start = time.time()\n",
    "bst.fit(X_train, y_train)\n",
    "end = time.time()\n",
    "\n",
    "y_pred = bst.predict(X_test)\n",
    "acc = accuracy_score(y_test, y_pred)\n",
    "\n",
    "print(f\"Точность: {acc}\")\n",
    "print(f\"Время обучения: {end - start} секунд\")"
   ]
  },
  {
   "cell_type": "code",
   "execution_count": 55,
   "id": "25d3c31e-86a2-4d2b-b0ff-cffd5e5785c0",
   "metadata": {},
   "outputs": [
    {
     "name": "stdout",
     "output_type": "stream",
     "text": [
      "Random Search:\n",
      "Лучшие параметры: {'max_depth': 9, 'max_features': 5, 'min_samples_leaf': 1, 'min_samples_split': 9, 'n_estimators': 112}\n",
      "Лучший F1-score: 0.6556010199845816\n",
      "Время выполнения Random Search: 4.70731782913208 секунд\n"
     ]
    }
   ],
   "source": [
    "#Подбор гиперпараметров с помощью Random Search\n",
    "print(\"Random Search:\")\n",
    "param_dist = {\n",
    "    'n_estimators': randint(50, 200),\n",
    "    'max_depth': randint(1, 20),\n",
    "    'max_features': ['sqrt', 'log2', None] + list(range(1, X.shape[1]+1)),\n",
    "    'min_samples_split': randint(2, 11),\n",
    "    'min_samples_leaf': randint(1, 11)\n",
    "}\n",
    "\n",
    "rf = RandomForestClassifier(random_state=42)\n",
    "random_search = RandomizedSearchCV(\n",
    "    rf, \n",
    "    param_distributions=param_dist,\n",
    "    n_iter=50,\n",
    "    cv=5,\n",
    "    scoring='f1',\n",
    "    random_state=42,\n",
    "    n_jobs=-1\n",
    ")\n",
    "\n",
    "start_time1 = time.time()\n",
    "random_search.fit(X_train, y_train)\n",
    "end_time1 = time.time()\n",
    "\n",
    "print(\"Лучшие параметры:\", random_search.best_params_)\n",
    "print(\"Лучший F1-score:\", random_search.best_score_)\n",
    "print(\"Время выполнения Random Search:\", end_time1 - start_time1, \"секунд\")"
   ]
  },
  {
   "cell_type": "code",
   "execution_count": 56,
   "id": "739b3680-0661-4c2d-81f6-e609df454974",
   "metadata": {},
   "outputs": [
    {
     "name": "stdout",
     "output_type": "stream",
     "text": [
      "F1-score на тестовых данных: 0.6545454545454545\n",
      "Accuracy на тестовых данных: 0.7532467532467533\n"
     ]
    }
   ],
   "source": [
    "# Оценка на тестовых данных\n",
    "best_rf = random_search.best_estimator_\n",
    "y_pred = best_rf.predict(X_test)\n",
    "print(\"F1-score на тестовых данных:\", f1_score(y_test, y_pred))\n",
    "print(\"Accuracy на тестовых данных:\", accuracy_score(y_test, y_pred))"
   ]
  },
  {
   "cell_type": "code",
   "execution_count": 57,
   "id": "bfadfea3-8093-4544-958f-989e808456b7",
   "metadata": {},
   "outputs": [],
   "source": [
    "#Подбор гиперпараметров с помощью TPE (Hyperopt)\n",
    "max_features_options = ['sqrt', 'log2'] + list(range(1, X.shape[1]+1))\n",
    "\n",
    "def objective(params):\n",
    "    try:\n",
    "        rf = RandomForestClassifier(\n",
    "            n_estimators=int(params['n_estimators']),\n",
    "            max_depth=int(params['max_depth']),\n",
    "            max_features=params['max_features'],\n",
    "            min_samples_split=int(params['min_samples_split']),\n",
    "            min_samples_leaf=int(params['min_samples_leaf']),\n",
    "            random_state=42,\n",
    "            n_jobs=-1\n",
    "        )\n",
    "        rf.fit(X_train, y_train)\n",
    "        y_pred = rf.predict(X_test)\n",
    "        score = f1_score(y_test, y_pred)\n",
    "        return {'loss': -score, 'status': STATUS_OK}\n",
    "    except Exception as e:\n",
    "        return {'loss': 0, 'status': STATUS_OK, 'exception': str(e)}"
   ]
  },
  {
   "cell_type": "code",
   "execution_count": 58,
   "id": "18fdc343-5084-4677-be84-b47abe1fbb5a",
   "metadata": {},
   "outputs": [],
   "source": [
    "space = {\n",
    "    'n_estimators': scope.int(hp.quniform('n_estimators', 50, 200, 1)),\n",
    "    'max_depth': scope.int(hp.quniform('max_depth', 1, 20, 1)),\n",
    "    'max_features': hp.choice('max_features', max_features_options),\n",
    "    'min_samples_split': scope.int(hp.quniform('min_samples_split', 2, 10, 1)),\n",
    "    'min_samples_leaf': scope.int(hp.quniform('min_samples_leaf', 1, 10, 1))\n",
    "}"
   ]
  },
  {
   "cell_type": "code",
   "execution_count": 59,
   "id": "19f01dde-57ad-4c05-a205-3b0459e61fc2",
   "metadata": {},
   "outputs": [
    {
     "name": "stdout",
     "output_type": "stream",
     "text": [
      "TPE (Hyperopt):\n",
      "100%|███████████████████████████████████████████████████████████████████████████████████████████████████████████████████████████████████████████████████████████| 50/50 [00:09<00:00,  5.48trial/s, best loss: -0.6707317073170732]\n",
      "Лучшие параметры: {'n_estimators': 155, 'max_depth': 8, 'max_features': 'log2', 'min_samples_split': 10, 'min_samples_leaf': 3}\n",
      "Лучший F1-score: 0.6707317073170732\n",
      "Accuracy на тестовых данных: 0.7532467532467533\n",
      "Время выполнения TPE: 9.121214866638184 секунд\n"
     ]
    }
   ],
   "source": [
    "print(\"TPE (Hyperopt):\")\n",
    "trials = Trials()\n",
    "start_time2 = time.time()\n",
    "\n",
    "best = fmin(\n",
    "    fn=objective,\n",
    "    space=space,\n",
    "    algo=tpe.suggest,\n",
    "    max_evals=50,\n",
    "    trials=trials,\n",
    "    rstate=np.random.default_rng(42)\n",
    ")\n",
    "\n",
    "end_time2 = time.time()\n",
    "best_params = {\n",
    "    'n_estimators': int(best['n_estimators']),\n",
    "    'max_depth': int(best['max_depth']),\n",
    "    'max_features': max_features_options[best['max_features']],\n",
    "    'min_samples_split': int(best['min_samples_split']),\n",
    "    'min_samples_leaf': int(best['min_samples_leaf'])\n",
    "}\n",
    "\n",
    "print(\"Лучшие параметры:\", best_params)\n",
    "print(\"Лучший F1-score:\", -trials.best_trial['result']['loss'])\n",
    "print(\"Accuracy на тестовых данных:\", accuracy_score(y_test, y_pred))\n",
    "print(\"Время выполнения TPE:\", end_time2 - start_time2, \"секунд\")"
   ]
  },
  {
   "cell_type": "code",
   "execution_count": 60,
   "id": "b81fe421-9e6f-4669-9e06-9129b088519f",
   "metadata": {},
   "outputs": [
    {
     "name": "stdout",
     "output_type": "stream",
     "text": [
      "\n",
      "3. Сравнение результатов:\n",
      "Random Search:\n",
      "- Время: 4.71 сек\n",
      "- F1-score: 0.6556\n",
      "- Accuracy: 0.7532\n",
      "\n",
      "TPE (Hyperopt):\n",
      "- Время: 9.12 сек\n",
      "- F1-score: 0.6707\n",
      "- Accuracy: 0.7662\n"
     ]
    }
   ],
   "source": [
    "#Сравнение результатов\n",
    "print(\"\\n3. Сравнение результатов:\")\n",
    "print(\"Random Search:\")\n",
    "print(f\"- Время: {end_time1 - start_time1:.2f} сек\")\n",
    "print(f\"- F1-score: {random_search.best_score_:.4f}\")\n",
    "print(f\"- Accuracy: {accuracy_score(y_test, random_search.best_estimator_.predict(X_test)):.4f}\")\n",
    "\n",
    "print(\"\\nTPE (Hyperopt):\")\n",
    "print(f\"- Время: {end_time2 - start_time2:.2f} сек\")\n",
    "print(f\"- F1-score: {-trials.best_trial['result']['loss']:.4f}\")\n",
    "print(f\"- Accuracy: {accuracy_score(y_test, best_rf_tpe.predict(X_test)):.4f}\")"
   ]
  },
  {
   "cell_type": "code",
   "execution_count": null,
   "id": "4a28ae0c-7e2c-4ab9-9010-ae6eac71dae3",
   "metadata": {},
   "outputs": [],
   "source": [
    "Вывод:\n",
    "Оба метода нашли схожие оптимальные параметры\n",
    "С помощью Random Search мы получили хорошую точность за короткое время, но у TPE результаты все таки лучше.\n",
    "Для данной задачи оба метода показали хорошие результаты, но TPE может быть предпочтительнее для более сложных случаев, в то время как Random Search является хорошим базовым подходом для подбора гиперпараметров."
   ]
  }
 ],
 "metadata": {
  "kernelspec": {
   "display_name": "Python 3 (ipykernel)",
   "language": "python",
   "name": "python3"
  },
  "language_info": {
   "codemirror_mode": {
    "name": "ipython",
    "version": 3
   },
   "file_extension": ".py",
   "mimetype": "text/x-python",
   "name": "python",
   "nbconvert_exporter": "python",
   "pygments_lexer": "ipython3",
   "version": "3.12.3"
  }
 },
 "nbformat": 4,
 "nbformat_minor": 5
}
